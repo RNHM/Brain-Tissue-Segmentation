{
  "cells": [
    {
      "cell_type": "markdown",
      "metadata": {
        "id": "-KxIplL-a3R9"
      },
      "source": [
        "**Tutorial # 3 - Contrast agnostic training**\n",
        "\n",
        "Goals:\n",
        "\n",
        "1.   Create synthetic images\n",
        "2.   Determine GMM parameters"
      ]
    },
    {
      "cell_type": "markdown",
      "metadata": {
        "id": "HMIG5gOwa-Nb"
      },
      "source": [
        "**Import libraries**"
      ]
    },
    {
      "cell_type": "code",
      "execution_count": 5,
      "metadata": {
        "id": "spA2vbr3a0j7",
        "vscode": {
          "languageId": "python"
        }
      },
      "outputs": [],
      "source": [
        "import numpy as np\n",
        "import nibabel as nib\n",
        "import matplotlib.pyplot as plt # plotting purposes\n",
        "\n",
        "import tensorflow as tf\n",
        "import os\n",
        "from os.path import join, basename\n",
        "import os.path\n",
        "from tensorflow import keras\n",
        "from tensorflow.keras import layers\n",
        "import cv2\n"
      ]
    },
    {
      "cell_type": "markdown",
      "metadata": {
        "id": "MYqbV-aZEzEx"
      },
      "source": [
        "**Mount drive**"
      ]
    },
    {
      "cell_type": "code",
      "execution_count": 12,
      "metadata": {
        "colab": {
          "base_uri": "https://localhost:8080/"
        },
        "id": "Pv1T4m4zCvcz",
        "outputId": "9d948191-f958-4e78-b5ed-0bc6eb24f970",
        "vscode": {
          "languageId": "python"
        }
      },
      "outputs": [
        {
          "name": "stdout",
          "output_type": "stream",
          "text": [
            "Mounted at /content/drive\n"
          ]
        }
      ],
      "source": [
        "from google.colab import drive\n",
        "drive.mount(\"/content/drive\")"
      ]
    },
    {
      "cell_type": "markdown",
      "metadata": {
        "id": "8wseEgIOKQng"
      },
      "source": [
        "# **START**\n",
        "\n",
        "---\n",
        "\n",
        "\n",
        "\n",
        "---\n",
        "\n",
        "\n",
        "\n",
        "---\n",
        "\n",
        "\n",
        "\n",
        "---\n",
        "\n"
      ]
    },
    {
      "cell_type": "markdown",
      "metadata": {
        "id": "IEFUu8FjYvaz"
      },
      "source": [
        "**Define parameters**"
      ]
    },
    {
      "cell_type": "code",
      "execution_count": null,
      "metadata": {
        "id": "eerKWEtxUg_x",
        "vscode": {
          "languageId": "python"
        }
      },
      "outputs": [],
      "source": [
        "# dataset parameters\n",
        "FNAME_PATTERN = 'drive/MyDrive/MISAFinal/'\n",
        "\n",
        "N_VOLUMES = 10\n",
        "IMAGE_SIZE = (256,128,256)\n",
        "\n",
        "# network parameters\n",
        "N_CLASSES = 5\n",
        "N_INPUT_CHANNELS = 1\n",
        "PATCH_SIZE = (64, 64)\n",
        "PATCH_STRIDE = (32, 32)\n",
        "\n",
        "# data preparation parameters\n",
        "CONTENT_THRESHOLD = 0.3\n",
        "\n",
        "# training parameters\n",
        "N_EPOCHS = 50\n",
        "BATCH_SIZE = 64\n",
        "PATIENCE = 10\n",
        "MODEL_FNAME_PATTERN = 'model.h5'\n",
        "OPTIMISER = 'Adam'\n",
        "LOSS = 'categorical_crossentropy'"
      ]
    },
    {
      "cell_type": "markdown",
      "metadata": {
        "id": "kakQO5X9E0oR"
      },
      "source": [
        "**Define SegNet architecture**"
      ]
    },
    {
      "cell_type": "markdown",
      "metadata": {
        "id": "Q02UA23lKKkq"
      },
      "source": [
        "# **Unet**\n",
        "\n",
        "---\n",
        "\n",
        "\n",
        "\n",
        "---\n",
        "\n",
        "\n",
        "\n",
        "---\n",
        "\n",
        "\n",
        "\n",
        "---\n",
        "\n"
      ]
    },
    {
      "cell_type": "code",
      "execution_count": null,
      "metadata": {
        "id": "Qo7ls49UTdHS",
        "vscode": {
          "languageId": "python"
        }
      },
      "outputs": [],
      "source": [
        "def get_unet(img_size=PATCH_SIZE, n_classes=N_CLASSES, n_input_channels=N_INPUT_CHANNELS, scale=1):\n",
        "    inputs = keras.Input(shape=img_size + (n_input_channels, ))\n",
        "    dropout_rate = 0.2\n",
        "    # Encoding path\n",
        "    conv1 = layers.Conv2D(32*scale, (3, 3), padding=\"same\", activation='relu')(inputs)\n",
        "    conv1 = layers.Conv2D(32*scale, (3, 3), padding=\"same\", activation='relu') (conv1)\n",
        "    #drop1 = layers.Dropout(rate=dropout_rate)(conv1, training=True)\n",
        "    max1 = layers.MaxPooling2D((2, 2))(conv1)\n",
        "\n",
        "    conv2 = layers.Conv2D(64*scale, (3, 3), padding=\"same\", activation='relu')(max1)\n",
        "    conv2 = layers.Conv2D(64*scale, (3, 3), padding=\"same\", activation='relu')(conv2)\n",
        "    #drop2 = layers.Dropout(rate=dropout_rate)(conv2, training=True)\n",
        "    max2 = layers.MaxPooling2D((2, 2))(conv2)\n",
        "\n",
        "    conv3 = layers.Conv2D(128*scale, (3, 3), padding=\"same\", activation='relu')(max2)\n",
        "    conv3 = layers.Conv2D(128*scale, (3, 3), padding=\"same\", activation='relu')(conv3)\n",
        "    #drop3 = layers.Dropout(rate=dropout_rate)(conv3, training=True)\n",
        "    max3 = layers.MaxPooling2D((2, 2))(conv3)\n",
        "\n",
        "    lat = layers.Conv2D(256*scale, (3, 3), padding=\"same\", activation='relu')(max3)\n",
        "\n",
        "    # Decoding path\n",
        "    up1 = layers.UpSampling2D((2, 2))(lat)\n",
        "    concat1 = layers.concatenate([conv3, up1], axis=-1)\n",
        "    conv4 = layers.Conv2D(128*scale, (3, 3), padding=\"same\", activation='relu')(concat1)\n",
        "    conv4 = layers.Conv2D(128*scale, (3, 3), padding=\"same\", activation='relu')(conv4)\n",
        "    #drop4 = layers.Dropout(rate=dropout_rate)(conv4, training=True)\n",
        "\n",
        "    up2 = layers.UpSampling2D((2, 2))(conv4)\n",
        "    concat2 = layers.concatenate([conv2, up2], axis=-1)\n",
        "    conv5 = layers.Conv2D(64*scale, (3, 3), padding=\"same\", activation='relu')(concat2)\n",
        "    conv5 = layers.Conv2D(64*scale, (3, 3), padding=\"same\", activation='relu')(conv5)\n",
        "    #drop5 = layers.Dropout(rate=dropout_rate)(conv5, training=True)\n",
        "\n",
        "    up3 = layers.UpSampling2D((2, 2))(conv5)\n",
        "    concat3 = layers.concatenate([conv1, up3], axis=-1)\n",
        "    conv6 = layers.Conv2D(32*scale, (3, 3), padding=\"same\", activation='relu')(concat3)\n",
        "    conv6 = layers.Conv2D(32*scale, (3, 3), padding=\"same\", activation='relu')(conv6)\n",
        "    #drop6 = layers.Dropout(rate=dropout_rate)(conv6, training=True)\n",
        "\n",
        "    outputs = layers.Conv2D(n_classes, (1, 1), activation=\"softmax\")(conv6)\n",
        "\n",
        "    model = keras.Model(inputs, outputs)\n",
        "\n",
        "    return model"
      ]
    },
    {
      "cell_type": "markdown",
      "metadata": {
        "id": "4Z1E1IglE-0w"
      },
      "source": [
        "**Load raw data**\n",
        "\n",
        "---\n",
        "\n",
        "\n",
        "\n",
        "---\n",
        "\n",
        "\n",
        "\n",
        "---\n",
        "\n",
        "\n",
        "\n",
        "---\n",
        "\n"
      ]
    },
    {
      "cell_type": "code",
      "execution_count": null,
      "metadata": {
        "id": "0mnj3JDme9gS",
        "vscode": {
          "languageId": "python"
        }
      },
      "outputs": [],
      "source": [
        "def load_data(n_volumes, image_size,data_path):\n",
        "  data_traces= os.listdir(data_path)\n",
        "  T1_volumes = np.zeros((n_volumes, *image_size, 1))\n",
        "  labels = np.zeros((n_volumes, *image_size, 1))\n",
        "  x=0\n",
        "  for i in enumerate(data_traces) :\n",
        "    print(i[1])\n",
        "  \n",
        "    img_data = nib.load(data_path+'/'+f'{i[1]}'+'/'+f'{i[1]}_5labels_preprocessed.nii.gz')\n",
        "    #img_data = nib.load(fname_pattern.format(i+1, 'T1'))\n",
        "    T1_volumes[x] = img_data.get_fdata()\n",
        "\n",
        "    seg_data = nib.load(data_path+'/'+f'{i[1]}'+'/'+f'{i[1]}_5labels_preprocessed_seg.nii.gz')\n",
        "    labels[x] = seg_data.get_fdata()\n",
        "    x=x+1\n",
        "\n",
        "  return (T1_volumes, labels)"
      ]
    },
    {
      "cell_type": "code",
      "execution_count": null,
      "metadata": {
        "colab": {
          "base_uri": "https://localhost:8080/"
        },
        "id": "_17931FqCqZ6",
        "outputId": "731ffefc-99d3-45e1-82db-ac52912af262",
        "vscode": {
          "languageId": "python"
        }
      },
      "outputs": [
        {
          "name": "stdout",
          "output_type": "stream",
          "text": [
            "IBSR_16\n",
            "IBSR_06\n",
            "IBSR_03\n",
            "IBSR_04\n",
            "IBSR_08\n",
            "IBSR_01\n",
            "IBSR_07\n"
          ]
        }
      ],
      "source": [
        "(training_volumes_T1, training_labels) = load_data(7,IMAGE_SIZE,'drive/MyDrive/MISAFinal/TrainingValidationTestSets/Training_Set')"
      ]
    },
    {
      "cell_type": "code",
      "execution_count": null,
      "metadata": {
        "colab": {
          "base_uri": "https://localhost:8080/"
        },
        "id": "qbaTRL_Tg5-_",
        "outputId": "3c4177c6-8d70-417d-bc22-797fb8a2cfd0",
        "vscode": {
          "languageId": "python"
        }
      },
      "outputs": [
        {
          "name": "stdout",
          "output_type": "stream",
          "text": [
            "IBSR_18\n",
            "IBSR_05\n",
            "IBSR_09\n"
          ]
        }
      ],
      "source": [
        "(validation_volumes_T1, validation_labels) = load_data(3,IMAGE_SIZE,'drive/MyDrive/MISAFinal/TrainingValidationTestSets/Validation_Set')"
      ]
    },
    {
      "cell_type": "code",
      "execution_count": null,
      "metadata": {
        "colab": {
          "base_uri": "https://localhost:8080/"
        },
        "id": "d2VyXN3ZM-Mv",
        "outputId": "1e903e29-36f6-4c38-9c30-4499820ca71e",
        "vscode": {
          "languageId": "python"
        }
      },
      "outputs": [
        {
          "name": "stdout",
          "output_type": "stream",
          "text": [
            "IBSR_14\n",
            "IBSR_13\n",
            "IBSR_17\n",
            "IBSR_11\n",
            "IBSR_12\n"
          ]
        }
      ],
      "source": [
        "(testing_volumes_T1, testing_labels) = load_data(5,IMAGE_SIZE,'drive/MyDrive/MISAFinal/TrainingValidationTestSets/testing_Set')"
      ]
    },
    {
      "cell_type": "markdown",
      "metadata": {
        "id": "LpKWGJ-Fh1B_"
      },
      "source": [
        "**Pre-process data**\n",
        "\n",
        "---\n",
        "\n",
        "\n",
        "\n",
        "---\n",
        "\n",
        "\n",
        "\n",
        "---\n",
        "\n",
        "\n",
        "\n",
        "---\n",
        "\n"
      ]
    },
    {
      "cell_type": "code",
      "execution_count": null,
      "metadata": {
        "id": "UzM014MHva12",
        "vscode": {
          "languageId": "python"
        }
      },
      "outputs": [],
      "source": []
    },
    {
      "cell_type": "markdown",
      "metadata": {
        "id": "BFDtzyW6FH7x"
      },
      "source": [
        "**Extract *useful* patches**\n",
        "\n",
        "This step is fundamental, we want to provide the network with useful information\n",
        "// Idea provided in Dr. Jose Bernal's Workshop\n"
      ]
    },
    {
      "cell_type": "code",
      "execution_count": null,
      "metadata": {
        "id": "v4qyfiRaf7n2",
        "vscode": {
          "languageId": "python"
        }
      },
      "outputs": [],
      "source": [
        "def extract_patches(x, patch_size, patch_stride) :\n",
        "  return tf.image.extract_patches(\n",
        "    x,\n",
        "    sizes=[1, *patch_size, 1],\n",
        "    strides=[1, *patch_stride, 1],\n",
        "    rates=[1, 1, 1, 1],\n",
        "    padding='SAME', name=None)"
      ]
    },
    {
      "cell_type": "code",
      "execution_count": null,
      "metadata": {
        "id": "nsKNTm-Lf-sb",
        "vscode": {
          "languageId": "python"
        }
      },
      "outputs": [],
      "source": [
        "def extract_useful_patches(\n",
        "    volumes, labels,\n",
        "    image_size=IMAGE_SIZE,\n",
        "    patch_size=PATCH_SIZE,\n",
        "    stride=PATCH_STRIDE,\n",
        "    threshold=CONTENT_THRESHOLD,\n",
        "    num_classes=N_CLASSES) :\n",
        "  volumes = volumes.reshape([-1, image_size[1], image_size[2], 1])\n",
        "  labels = labels.reshape([-1, image_size[1], image_size[2], 1])\n",
        "  print(volumes.shape)\n",
        "\n",
        "  vol_patches = extract_patches(volumes, patch_size, stride).numpy()\n",
        "  seg_patches = extract_patches(labels, patch_size, stride).numpy()\n",
        "\n",
        "  vol_patches = vol_patches.reshape([-1, *patch_size, 1])\n",
        "  seg_patches = seg_patches.reshape([-1, *patch_size, ])\n",
        "  print(vol_patches.shape)\n",
        "  print(seg_patches.shape)\n",
        "\n",
        "\n",
        "  foreground_mask = seg_patches != 0\n",
        "\n",
        "  useful_patches = foreground_mask.sum(axis=(1, 2)) > threshold * np.prod(patch_size)\n",
        "\n",
        "  vol_patches = vol_patches[useful_patches]\n",
        "  seg_patches = seg_patches[useful_patches]\n",
        "  print(seg_patches.shape[0])\n",
        "\n",
        "  seg_patches = tf.keras.utils.to_categorical(\n",
        "    seg_patches, num_classes=N_CLASSES, dtype='float32')\n",
        "  \n",
        "  return (vol_patches, seg_patches)"
      ]
    },
    {
      "cell_type": "code",
      "execution_count": null,
      "metadata": {
        "colab": {
          "base_uri": "https://localhost:8080/"
        },
        "id": "92C3sTe7fzNP",
        "outputId": "3f775cb1-10c4-41b0-dc11-27f58b65e0df",
        "vscode": {
          "languageId": "python"
        }
      },
      "outputs": [
        {
          "name": "stdout",
          "output_type": "stream",
          "text": [
            "(1792, 128, 256, 1)\n",
            "(57344, 64, 64, 1)\n",
            "(57344, 64, 64)\n",
            "9631\n",
            "(768, 128, 256, 1)\n",
            "(24576, 64, 64, 1)\n",
            "(24576, 64, 64)\n",
            "4796\n"
          ]
        }
      ],
      "source": [
        "# extract patches from training set\n",
        "#(training_patches_seg, _) = extract_useful_patches(training_labels, training_labels)\n",
        "\n",
        "(training_patches_T1,training_patches_seg) = extract_useful_patches(training_volumes_T1, training_labels)\n",
        "\n",
        "# extract patches from validation set\n",
        "(validation_patches_T1, validation_patches_seg) = extract_useful_patches(validation_volumes_T1, validation_labels)"
      ]
    },
    {
      "cell_type": "markdown",
      "metadata": {
        "id": "0K_iI4dHn_yq"
      },
      "source": [
        "**Train network**"
      ]
    },
    {
      "cell_type": "code",
      "execution_count": null,
      "metadata": {
        "colab": {
          "base_uri": "https://localhost:8080/"
        },
        "id": "R31r7MJLwKLr",
        "outputId": "3e6bbb76-9481-4954-9fff-2e1c10c71665",
        "vscode": {
          "languageId": "python"
        }
      },
      "outputs": [
        {
          "name": "stdout",
          "output_type": "stream",
          "text": [
            "Epoch 1/50\n",
            "151/151 [==============================] - 28s 179ms/step - loss: 0.4217 - val_loss: 0.2570\n",
            "Epoch 2/50\n",
            "151/151 [==============================] - 27s 176ms/step - loss: 0.2009 - val_loss: 0.1925\n",
            "Epoch 3/50\n",
            "151/151 [==============================] - 27s 176ms/step - loss: 0.1664 - val_loss: 0.1643\n",
            "Epoch 4/50\n",
            "151/151 [==============================] - 27s 176ms/step - loss: 0.1431 - val_loss: 0.1565\n",
            "Epoch 5/50\n",
            "151/151 [==============================] - 26s 175ms/step - loss: 0.1777 - val_loss: 0.1711\n",
            "Epoch 6/50\n",
            "151/151 [==============================] - 27s 176ms/step - loss: 0.1360 - val_loss: 0.1515\n",
            "Epoch 7/50\n",
            "151/151 [==============================] - 27s 177ms/step - loss: 0.1163 - val_loss: 0.1477\n",
            "Epoch 8/50\n",
            "151/151 [==============================] - 27s 176ms/step - loss: 0.1077 - val_loss: 0.1470\n",
            "Epoch 9/50\n",
            "151/151 [==============================] - 27s 177ms/step - loss: 0.1001 - val_loss: 0.1447\n",
            "Epoch 10/50\n",
            "151/151 [==============================] - 27s 176ms/step - loss: 0.0925 - val_loss: 0.1497\n",
            "Epoch 11/50\n",
            "151/151 [==============================] - 26s 175ms/step - loss: 0.0874 - val_loss: 0.1566\n",
            "Epoch 12/50\n",
            "151/151 [==============================] - 27s 176ms/step - loss: 0.0863 - val_loss: 0.1570\n",
            "Epoch 13/50\n",
            "151/151 [==============================] - 27s 176ms/step - loss: 0.0811 - val_loss: 0.1578\n",
            "Epoch 14/50\n",
            "151/151 [==============================] - 26s 175ms/step - loss: 0.0757 - val_loss: 0.1530\n",
            "Epoch 15/50\n",
            "151/151 [==============================] - 26s 176ms/step - loss: 0.0746 - val_loss: 0.1541\n",
            "Epoch 16/50\n",
            "151/151 [==============================] - 27s 176ms/step - loss: 0.0736 - val_loss: 0.1613\n",
            "Epoch 17/50\n",
            "151/151 [==============================] - 26s 175ms/step - loss: 0.0722 - val_loss: 0.1656\n",
            "Epoch 18/50\n",
            "151/151 [==============================] - 27s 176ms/step - loss: 0.0688 - val_loss: 0.1593\n",
            "Epoch 19/50\n",
            "151/151 [==============================] - 27s 176ms/step - loss: 0.0662 - val_loss: 0.1610\n"
          ]
        },
        {
          "data": {
            "text/plain": [
              "<keras.callbacks.History at 0x7f6f70142410>"
            ]
          },
          "execution_count": 41,
          "metadata": {},
          "output_type": "execute_result"
        }
      ],
      "source": [
        "my_callbacks = [\n",
        "    tf.keras.callbacks.EarlyStopping(patience=PATIENCE),\n",
        "    tf.keras.callbacks.ModelCheckpoint(filepath=MODEL_FNAME_PATTERN, save_best_only=True)\n",
        "]\n",
        "\n",
        "segnet = get_unet()\n",
        "segnet.compile(optimizer=OPTIMISER, loss=LOSS)\n",
        "segnet.fit(\n",
        "    x=training_patches_T1, \n",
        "    y=training_patches_seg,\n",
        "    validation_data=(validation_patches_T1, validation_patches_seg),\n",
        "    batch_size=BATCH_SIZE,\n",
        "    epochs=N_EPOCHS,\n",
        "    callbacks=my_callbacks,\n",
        "    verbose=1)"
      ]
    },
    {
      "cell_type": "markdown",
      "metadata": {
        "id": "XGcfrZCMjz4M"
      },
      "source": [
        "**Load best model**"
      ]
    },
    {
      "cell_type": "code",
      "execution_count": null,
      "metadata": {
        "id": "5fNsYJL7KnON",
        "vscode": {
          "languageId": "python"
        }
      },
      "outputs": [],
      "source": [
        "segnet = get_unet(\n",
        "    img_size=(IMAGE_SIZE[1], IMAGE_SIZE[2]),\n",
        "    n_classes=N_CLASSES,\n",
        "    n_input_channels=N_INPUT_CHANNELS)\n",
        "segnet.compile(optimizer=OPTIMISER, loss=LOSS)\n",
        "segnet.load_weights('model.h5')"
      ]
    },
    {
      "cell_type": "code",
      "execution_count": null,
      "metadata": {
        "id": "U-eEtbOCl185",
        "vscode": {
          "languageId": "python"
        }
      },
      "outputs": [],
      "source": [
        "testing_volumes_T1_processed = testing_volumes_T1.reshape([-1, IMAGE_SIZE[1], IMAGE_SIZE[2], 1])\n",
        "testing_labels_processed = testing_labels.reshape([-1, IMAGE_SIZE[1], IMAGE_SIZE[2], 1])\n",
        "\n",
        "testing_labels_processed = tf.keras.utils.to_categorical(\n",
        "    testing_labels_processed, num_classes=5, dtype='float32')"
      ]
    },
    {
      "cell_type": "markdown",
      "metadata": {
        "id": "xF4ZYcYDqJnN"
      },
      "source": [
        "**Predict labels for test data**"
      ]
    },
    {
      "cell_type": "code",
      "execution_count": null,
      "metadata": {
        "colab": {
          "base_uri": "https://localhost:8080/",
          "height": 254
        },
        "id": "ItoY31x0K3r8",
        "outputId": "5b7e9fce-d035-4166-d0b4-94556bf5576d",
        "vscode": {
          "languageId": "python"
        }
      },
      "outputs": [
        {
          "name": "stdout",
          "output_type": "stream",
          "text": [
            "(256, 128, 256, 5)\n"
          ]
        },
        {
          "data": {
            "text/plain": [
              "<matplotlib.image.AxesImage at 0x7f0299c92550>"
            ]
          },
          "execution_count": 23,
          "metadata": {},
          "output_type": "execute_result"
        },
        {
          "data": {
            "image/png": "[encoded data removed]",
            "text/plain": [
              "<Figure size 432x288 with 1 Axes>"
            ]
          },
          "metadata": {
            "needs_background": "light"
          },
          "output_type": "display_data"
        }
      ],
      "source": [
        "prediction = segnet.predict(x=testing_volumes_T1[1])\n",
        "print(prediction.shape)\n",
        "\n",
        "prediction = np.argmax(prediction, axis=3)\n",
        "\n",
        "plt.imshow(prediction[129, :, :])"
      ]
    },
    {
      "cell_type": "code",
      "execution_count": null,
      "metadata": {
        "colab": {
          "base_uri": "https://localhost:8080/",
          "height": 236
        },
        "id": "K_irAeBKv2wk",
        "outputId": "1c9200f8-f241-43c2-b9d8-7eaa374b40f8",
        "vscode": {
          "languageId": "python"
        }
      },
      "outputs": [
        {
          "data": {
            "text/plain": [
              "<matplotlib.image.AxesImage at 0x7f0299e189d0>"
            ]
          },
          "execution_count": 18,
          "metadata": {},
          "output_type": "execute_result"
        },
        {
          "data": {
            "image/png": "[encoded data removed]",
            "text/plain": [
              "<Figure size 432x288 with 1 Axes>"
            ]
          },
          "metadata": {
            "needs_background": "light"
          },
          "output_type": "display_data"
        }
      ],
      "source": [
        "plt.imshow(np.squeeze(testing_labels[0][129,:,:]))"
      ]
    },
    {
      "cell_type": "code",
      "execution_count": null,
      "metadata": {
        "id": "zCUtevyd7nKz",
        "vscode": {
          "languageId": "python"
        }
      },
      "outputs": [],
      "source": [
        "def compute_dice(prediction, labels) :\n",
        "  prediction = prediction.squeeze()\n",
        "  labels = labels.squeeze()\n",
        "  dice=[]\n",
        "  for c in np.unique(prediction) :\n",
        "    intersection = np.logical_and(prediction == c, labels==c).sum()\n",
        "    union = (prediction == c).sum() + (labels==c).sum()\n",
        "    print(f'Dice coefficient class {c} equal to {2 * intersection / union : .2f}')\n",
        "    dice.append(2 * intersection / union)\n",
        "  return dice "
      ]
    },
    {
      "cell_type": "code",
      "execution_count": null,
      "metadata": {
        "colab": {
          "base_uri": "https://localhost:8080/"
        },
        "id": "w00PRjuLhL6n",
        "outputId": "d897e8c4-8283-48ad-dfce-ad082f345ad7",
        "vscode": {
          "languageId": "python"
        }
      },
      "outputs": [
        {
          "name": "stdout",
          "output_type": "stream",
          "text": [
            "Dice coefficient class 0 equal to  1.00\n",
            "Dice coefficient class 1 equal to  0.90\n",
            "Dice coefficient class 2 equal to  0.95\n",
            "Dice coefficient class 3 equal to  0.93\n",
            "Dice coefficient class 4 equal to  0.83\n",
            "Dice coefficient class 0 equal to  1.00\n",
            "Dice coefficient class 1 equal to  0.88\n",
            "Dice coefficient class 2 equal to  0.93\n",
            "Dice coefficient class 3 equal to  0.90\n",
            "Dice coefficient class 4 equal to  0.80\n",
            "Dice coefficient class 0 equal to  1.00\n",
            "Dice coefficient class 1 equal to  0.92\n",
            "Dice coefficient class 2 equal to  0.94\n",
            "Dice coefficient class 3 equal to  0.91\n",
            "Dice coefficient class 4 equal to  0.76\n",
            "Dice coefficient class 0 equal to  1.00\n",
            "Dice coefficient class 1 equal to  0.87\n",
            "Dice coefficient class 2 equal to  0.93\n",
            "Dice coefficient class 3 equal to  0.94\n",
            "Dice coefficient class 4 equal to  0.84\n",
            "Dice coefficient class 0 equal to  1.00\n",
            "Dice coefficient class 1 equal to  0.88\n",
            "Dice coefficient class 2 equal to  0.92\n",
            "Dice coefficient class 3 equal to  0.92\n",
            "Dice coefficient class 4 equal to  0.84\n"
          ]
        }
      ],
      "source": [
        "dice_background=[]\n",
        "dice_csf=[]\n",
        "dice_wm=[]\n",
        "dice_gm=[]\n",
        "dices=[]\n",
        "\n",
        "for i in range(5):\n",
        "  prediction = segnet.predict(x=testing_volumes_T1[i])\n",
        "  prediction = np.argmax(prediction, axis=3)\n",
        "  dices=compute_dice(prediction, testing_labels[i])\n",
        "  dice_background.append(dices[0])\n",
        "  dice_csf.append(dices[1])\n",
        "  dice_wm.append(dices[2])\n",
        "  dice_gm.append(dices[3])"
      ]
    },
    {
      "cell_type": "code",
      "execution_count": null,
      "metadata": {
        "colab": {
          "base_uri": "https://localhost:8080/"
        },
        "id": "lfai7Z3RsesD",
        "outputId": "ae4b1876-870a-48a0-f79d-2b490db91f39",
        "vscode": {
          "languageId": "python"
        }
      },
      "outputs": [
        {
          "name": "stdout",
          "output_type": "stream",
          "text": [
            "0.9993812625649428\n",
            "0.892405692294021\n",
            "0.9332652158816886\n",
            "0.9197466032235029\n"
          ]
        }
      ],
      "source": [
        "print(np.average(np.array(dice_background)))\n",
        "print(np.average(np.array(dice_csf)))\n",
        "print(np.average(np.array(dice_wm)))\n",
        "print(np.average(np.array(dice_gm)))"
      ]
    }
  ],
  "metadata": {
    "accelerator": "GPU",
    "colab": {
      "collapsed_sections": [],
      "name": "Final_ Trial1.ipynb",
      "provenance": []
    },
    "kernelspec": {
      "display_name": "Python 3",
      "name": "python3"
    }
  },
  "nbformat": 4,
  "nbformat_minor": 0
}
